{
 "cells": [
  {
   "cell_type": "code",
   "execution_count": 1,
   "id": "3a643142",
   "metadata": {},
   "outputs": [],
   "source": [
    "# References\n",
    "# https://www.kaggle.com/hkubra/predicting-the-readmission-of-diabetic-patient-s#7.-Hyperparameter-Tuning\n",
    "# https://www.kaggle.com/iabhishekofficial/prediction-on-hospital-readmission?select=diabetic_data.csv\n",
    "# https://www.kaggle.com/alibaris/eda-vis-on-diabetes-data\n",
    "# https://aws.amazon.com/getting-started/hands-on/build-train-deploy-machine-learning-model-sagemaker/\n",
    "\n",
    "import os\n",
    "import boto3\n",
    "import re\n",
    "import sagemaker\n",
    "#Loading libraries \n",
    "import pandas as pd\n",
    "import numpy as np\n",
    "import matplotlib.pyplot as plt\n",
    "import seaborn as sns\n",
    "# Metrics\n",
    "from sklearn.preprocessing import StandardScaler\n",
    "from sklearn.preprocessing import LabelEncoder\n",
    "from sklearn.preprocessing import OrdinalEncoder\n",
    "from sklearn.neighbors import LocalOutlierFactor\n",
    "from sklearn.model_selection import train_test_split, GridSearchCV, cross_val_score\n",
    "from sklearn.metrics import confusion_matrix, accuracy_score,f1_score,recall_score,mean_squared_error, r2_score, roc_auc_score, roc_curve, classification_report\n",
    "from sklearn.metrics import classification_report\n",
    "import sklearn.metrics as metrics\n",
    "from sklearn.metrics import precision_recall_fscore_support\n",
    "\n",
    "# Models\n",
    "from sklearn.linear_model import LogisticRegression\n",
    "from sklearn.linear_model import SGDClassifier\n",
    "from sklearn.neighbors import KNeighborsClassifier\n",
    "from sklearn.svm import SVC\n",
    "from sklearn.neural_network import MLPClassifier\n",
    "from sklearn.tree import DecisionTreeClassifier\n",
    "from sklearn.ensemble import RandomForestClassifier\n",
    "from sklearn.ensemble import GradientBoostingClassifier"
   ]
  },
  {
   "cell_type": "code",
   "execution_count": null,
   "id": "90d639f2",
   "metadata": {},
   "outputs": [],
   "source": [
    "role = sagemaker.get_execution_role()\n",
    "sess = sagemaker.Session()\n",
    "region = boto3.Session().region_name"
   ]
  },
  {
   "cell_type": "code",
   "execution_count": 3,
   "id": "3b9dac52",
   "metadata": {},
   "outputs": [],
   "source": [
    "df = df = pd.read_csv(\"./data/diabetic_data.csv\")"
   ]
  },
  {
   "cell_type": "code",
   "execution_count": 7,
   "id": "b42befc1",
   "metadata": {},
   "outputs": [],
   "source": [
    "df.readmitted = [1 if each=='<30' else 0 for each in df.readmitted]"
   ]
  },
  {
   "cell_type": "code",
   "execution_count": 8,
   "id": "75058f51",
   "metadata": {},
   "outputs": [],
   "source": [
    "df.replace('?', np.nan , inplace=True)"
   ]
  },
  {
   "cell_type": "code",
   "execution_count": 12,
   "id": "be15b6a2",
   "metadata": {},
   "outputs": [],
   "source": [
    "df.gender.replace('Unknown/Invalid', np.nan , inplace=True)\n",
    "df.dropna(subset=['gender'], how='all', inplace = True)\n",
    "df['diabetesMed'] = df['diabetesMed'].replace('Yes', 1)\n",
    "df['diabetesMed'] = df['diabetesMed'].replace('No', 0)"
   ]
  },
  {
   "cell_type": "code",
   "execution_count": null,
   "id": "02d6306c",
   "metadata": {},
   "outputs": [],
   "source": [
    "# A1Cresult and max_glu_serum\n",
    "df['A1Cresult'] = df['A1Cresult'].replace(['>7','>8','Norm','None'],[1,1,0,-99])\n",
    "df['max_glu_serum'] = df['max_glu_serum'].replace(['>200','>300','Norm','None'],[1,1,0,-99])\n",
    "\n",
    "df.head()"
   ]
  },
  {
   "cell_type": "markdown",
   "id": "e3d4c9f0",
   "metadata": {},
   "source": [
    "### Train and Test Splitting"
   ]
  },
  {
   "cell_type": "code",
   "execution_count": null,
   "id": "a2ef40ed",
   "metadata": {
    "scrolled": true
   },
   "outputs": [],
   "source": [
    "# Go with 12 columns only for the prediction\n",
    "df = df[['gender','age','time_in_hospital','num_medications','number_outpatient','number_emergency','number_inpatient','number_diagnoses','max_glu_serum','A1Cresult','insulin','diabetesMed','readmitted']]\n",
    "X = df.drop(columns=\"readmitted\", axis=1)\n",
    "Y = df.readmitted\n",
    "df.head()"
   ]
  },
  {
   "cell_type": "code",
   "execution_count": 24,
   "id": "bdd264bc",
   "metadata": {},
   "outputs": [],
   "source": [
    "from sklearn.model_selection import train_test_split\n",
    "X_train, X_test, y_train, y_test = train_test_split(X, Y, test_size = 0.30, random_state = 42)"
   ]
  },
  {
   "cell_type": "code",
   "execution_count": null,
   "id": "ac7e6c6f",
   "metadata": {},
   "outputs": [],
   "source": [
    "ordinal_enc = OrdinalEncoder()\n",
    "X_train.age = ordinal_enc.fit_transform(X_train.age.values.reshape(-1, 1))\n",
    "X_test.age = ordinal_enc.transform(X_test.age.values.reshape(-1, 1))"
   ]
  },
  {
   "cell_type": "code",
   "execution_count": 27,
   "id": "b38cf6b5",
   "metadata": {},
   "outputs": [],
   "source": [
    "# S3 bucket for saving code and model artifacts.\n",
    "bucket = sagemaker.Session().default_bucket()"
   ]
  },
  {
   "cell_type": "code",
   "execution_count": 28,
   "id": "b95dbfba",
   "metadata": {},
   "outputs": [],
   "source": [
    "train_file = \"train.csv\"\n",
    "prefix = (\n",
    "    \"sagemaker/admission-risk-prediction\"  # place to upload training files within the bucket\n",
    ")\n",
    "#([train_data['y_yes'], train_data.drop(['y_no', 'y_yes'], axis=1)], axis=1).\n",
    "pd.concat([y_train, X_train], axis=1).to_csv('train.csv', index=False, header=False)\n",
    "pd.concat([y_test, X_test], axis=1).to_csv('test.csv', index=False, header=True)\n",
    "             \n",
    "boto3.Session().resource('s3').Bucket(bucket).Object(os.path.join(prefix, 'train/train.csv')).upload_file('train.csv')\n",
    "boto3.Session().resource('s3').Bucket(bucket).Object(os.path.join(prefix, 'test/test.csv')).upload_file('test.csv')\n",
    "s3_input_train = sagemaker.inputs.TrainingInput(s3_data='s3://{}/{}/train'.format(bucket, prefix), content_type='csv')"
   ]
  },
  {
   "cell_type": "code",
   "execution_count": null,
   "id": "6ddb0625",
   "metadata": {},
   "outputs": [],
   "source": [
    "# this line automatically looks for the XGBoost image URI and builds an XGBoost container.\n",
    "xgboost_container = sagemaker.image_uris.retrieve(\"xgboost\", region, \"latest\")\n",
    "\n",
    "print(\"Success - the MySageMakerInstance is in the \" + region + \" region. You will use the \" + xgboost_container + \" container for your SageMaker endpoint.\")\n",
    "\n",
    "sess = sagemaker.Session()\n",
    "xgb = sagemaker.estimator.Estimator(xgboost_container,role, instance_count=1, instance_type='ml.m4.xlarge',output_path='s3://{}/{}/output'.format(bucket, prefix),sagemaker_session=sess)\n",
    "xgb.set_hyperparameters(max_depth=5,eta=0.2,gamma=4,min_child_weight=6,subsample=0.8,silent=0,objective='binary:logistic',num_round=100)"
   ]
  },
  {
   "cell_type": "code",
   "execution_count": null,
   "id": "9b9fba08",
   "metadata": {},
   "outputs": [],
   "source": [
    "xgb.fit({'train': s3_input_train})"
   ]
  },
  {
   "cell_type": "code",
   "execution_count": null,
   "id": "9c5b2509",
   "metadata": {},
   "outputs": [],
   "source": [
    "xgb_predictor = xgb.deploy(initial_instance_count=1,instance_type='ml.m4.xlarge')"
   ]
  }
 ],
 "metadata": {
  "kernelspec": {
   "display_name": "conda_python3",
   "language": "python",
   "name": "conda_python3"
  },
  "language_info": {
   "codemirror_mode": {
    "name": "ipython",
    "version": 3
   },
   "file_extension": ".py",
   "mimetype": "text/x-python",
   "name": "python",
   "nbconvert_exporter": "python",
   "pygments_lexer": "ipython3",
   "version": "3.6.13"
  }
 },
 "nbformat": 4,
 "nbformat_minor": 5
}
